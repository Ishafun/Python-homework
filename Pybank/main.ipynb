{
 "cells": [
  {
   "cell_type": "code",
   "execution_count": 8,
   "id": "e40bcc39-3269-4ff6-8a5e-0a105122e188",
   "metadata": {},
   "outputs": [],
   "source": [
    "# -*Homework assginment 2 Pybank*- \n",
    "\"\"\"Financial Analysis.\n",
    "This script will use the Pathlib library to set the file path,\n",
    "use the csv library to read in the file and iterate over each\n",
    "row of the file and making three list (month, profit, change_in_P/L) to calculate :\n",
    "\n",
    "The total number of months included in the dataset.\n",
    "The net total of profit/losses over the entire period.\n",
    "The greatest increase in profits(date and amount)over the entire period.\n",
    "The greatest increase in losses(date and amount)over the entire period.\n",
    "\"\"\"\n",
    "\n",
    "# Import the pathlib and csv library\n",
    "from pathlib import Path\n",
    "import csv"
   ]
  },
  {
   "cell_type": "code",
   "execution_count": 9,
   "id": "e79eae69",
   "metadata": {},
   "outputs": [],
   "source": [
    "# Set the file path\n",
    "csvpath = Path('budget_data.csv')"
   ]
  },
  {
   "cell_type": "code",
   "execution_count": 10,
   "id": "f41c03d8",
   "metadata": {},
   "outputs": [],
   "source": [
    "\"\"\"Total number of months:\n",
    "   read the cvs data and make a list out of the first column and use pythong function  'lens' to count. \n",
    "   Total amount of P/L:\n",
    "   read the cvs data and make a list out of the second column and then use python script 'sum' for the total.  \n",
    "   Average change in P/L:\n",
    "   From the P/L list making a change in P/L list, sum up all the variables in this new list \n",
    "   then divide by the list count.\"\"\"\n",
    "#initializing variables \n",
    "months = []\n",
    "profit =[]\n",
    "change_in_profit_and_loss=[]\n",
    "\n",
    "# Open the csv file as an object,pass in the csv file to the csv.reader() function\n",
    "with open(csvpath, 'r') as csvfile:\n",
    "    csvreader = csv.reader(csvfile, delimiter=',')\n",
    "# Read the header row\n",
    "    csv_header = next(csvreader)\n",
    "# read each row of data after the header,\n",
    "# append column 1 to list of 'profit' and column 2 to list of 'months' after the header\n",
    "    for rows in csvreader:\n",
    "        months.append(rows[0])\n",
    "        profit.append(int(rows[1]))"
   ]
  },
  {
   "cell_type": "code",
   "execution_count": 11,
   "id": "8d7deed2",
   "metadata": {
    "scrolled": true
   },
   "outputs": [],
   "source": [
    "#loop through profit to make a new list of difference in profit.\n",
    "for v in range(1,len(profit)):\n",
    "    change_in_profit_and_loss.append(((profit[v]) - profit[v-1]))"
   ]
  },
  {
   "cell_type": "code",
   "execution_count": 12,
   "id": "14f945e1",
   "metadata": {},
   "outputs": [],
   "source": [
    "#calucalte the average of difference in profit\n",
    "average_change_in_profit_and_loss=sum(change_in_profit_and_loss)/len(change_in_profit_and_loss)"
   ]
  },
  {
   "cell_type": "code",
   "execution_count": 13,
   "id": "b001c393",
   "metadata": {},
   "outputs": [],
   "source": [
    "'''Greatest increase in profit is the maximum value of change_in_profit_and_loss\n",
    "   Greatest dcrease in profit is the minimum value of change_in_profit_and_loss'''\n",
    "\n",
    "#find the greatest increase and decrease in profit value\n",
    "Gst_inc=max(change_in_profit_and_loss)\n",
    "Gst_dec=min(change_in_profit_and_loss)\n",
    "\n",
    "# use the index of the greatest increase/decrease of profit value, +1, which is the index of the corresponding month\n",
    "# find the value of the corresponding month \n",
    "Gst_inc_month = months[change_in_profit_and_loss.index(max(change_in_profit_and_loss))+1]\n",
    "Gst_dec_month = months[change_in_profit_and_loss.index(min(change_in_profit_and_loss))+1]"
   ]
  },
  {
   "cell_type": "code",
   "execution_count": 7,
   "id": "9a5e68da",
   "metadata": {},
   "outputs": [
    {
     "name": "stdout",
     "output_type": "stream",
     "text": [
      "Financial Analysis\n",
      "----------------------------\n",
      "Total months:  $86\n",
      "Total: $38382578\n",
      "Average Change: $-2315.12\n",
      "Greatest Increase in Profits: Feb-2012  ($1926159)\n",
      "Greatest Decrease in Profits: Sep-2013  ($-2196167)\n"
     ]
    }
   ],
   "source": [
    "print('Financial Analysis')\n",
    "print('----------------------------')\n",
    "print('Total months:  $' + str(len(months))) \n",
    "print('Total: $' + str(sum(profit)))\n",
    "print('Average Change: $' + str(round(average_change_in_profit_and_loss,2)))\n",
    "print(\"Greatest Increase in Profits: \" + Gst_inc_month +\"  ($\" + str(Gst_inc)+ \")\")\n",
    "print(\"Greatest Decrease in Profits: \" + Gst_dec_month +\"  ($\" + str(Gst_dec) +\")\")"
   ]
  },
  {
   "cell_type": "code",
   "execution_count": null,
   "id": "1c4060ee",
   "metadata": {},
   "outputs": [],
   "source": []
  }
 ],
 "metadata": {
  "kernelspec": {
   "display_name": "Python 3 (ipykernel)",
   "language": "python",
   "name": "python3"
  },
  "language_info": {
   "codemirror_mode": {
    "name": "ipython",
    "version": 3
   },
   "file_extension": ".py",
   "mimetype": "text/x-python",
   "name": "python",
   "nbconvert_exporter": "python",
   "pygments_lexer": "ipython3",
   "version": "3.7.11"
  }
 },
 "nbformat": 4,
 "nbformat_minor": 5
}
