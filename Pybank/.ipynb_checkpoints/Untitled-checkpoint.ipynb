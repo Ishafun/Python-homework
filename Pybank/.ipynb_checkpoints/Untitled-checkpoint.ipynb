{
 "cells": [
  {
   "cell_type": "code",
   "execution_count": 1,
   "id": "47990324-2d0d-4d3d-9a9b-f345cd44388e",
   "metadata": {},
   "outputs": [
    {
     "name": "stdout",
     "output_type": "stream",
     "text": [
      "Hello world\n"
     ]
    }
   ],
   "source": [
    "print(\"Hello world\")"
   ]
  },
  {
   "cell_type": "code",
   "execution_count": 2,
   "id": "a0e7af2f-e15d-41e3-a48d-f8b6e73d86a4",
   "metadata": {},
   "outputs": [],
   "source": [
    "# Variable declaration example\n",
    "title = 'Harry Potter'\n",
    "year = 2000\n",
    "price = 20.05"
   ]
  },
  {
   "cell_type": "code",
   "execution_count": 3,
   "id": "ee6f4f2a-1103-4b55-ade2-06297fe8f846",
   "metadata": {},
   "outputs": [
    {
     "name": "stdout",
     "output_type": "stream",
     "text": [
      "Harry Potter 2000 20.05\n"
     ]
    }
   ],
   "source": [
    "# print the declaration\n",
    "print(title,year,price)\n"
   ]
  },
  {
   "cell_type": "code",
   "execution_count": null,
   "id": "f601b2cf-8815-4bc0-b594-dc8d1d9ce964",
   "metadata": {},
   "outputs": [],
   "source": []
  }
 ],
 "metadata": {
  "kernelspec": {
   "display_name": "Python 3 (ipykernel)",
   "language": "python",
   "name": "python3"
  },
  "language_info": {
   "codemirror_mode": {
    "name": "ipython",
    "version": 3
   },
   "file_extension": ".py",
   "mimetype": "text/x-python",
   "name": "python",
   "nbconvert_exporter": "python",
   "pygments_lexer": "ipython3",
   "version": "3.9.7"
  }
 },
 "nbformat": 4,
 "nbformat_minor": 5
}
